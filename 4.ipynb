{
 "cells": [
  {
   "cell_type": "code",
   "execution_count": 1,
   "id": "58a86dd2",
   "metadata": {},
   "outputs": [],
   "source": [
    "import pyspark"
   ]
  },
  {
   "cell_type": "code",
   "execution_count": 2,
   "id": "602e1b1c",
   "metadata": {},
   "outputs": [],
   "source": [
    "from pyspark.sql import SparkSession\n",
    "spark=SparkSession.builder.appName('dataframe').getOrCreate()"
   ]
  },
  {
   "cell_type": "code",
   "execution_count": 4,
   "id": "e2b51115",
   "metadata": {},
   "outputs": [
    {
     "name": "stdout",
     "output_type": "stream",
     "text": [
      "+-----+---+----------+------+\n",
      "|Name |Age|Experience|Salary|\n",
      "+-----+---+----------+------+\n",
      "|Aryan| 20|        34| 69000|\n",
      "|Grace| 19|        29|220000|\n",
      "|Sneha| 19|        78|170000|\n",
      "| Rene| 33|        22| 22000|\n",
      "| John| 20|        11| 18000|\n",
      "| Isen| 22|        45| 90000|\n",
      "| Arlo| 19|        12|120000|\n",
      "|Blyke| 21|        22|200000|\n",
      "+-----+---+----------+------+\n",
      "\n"
     ]
    }
   ],
   "source": [
    "df_pyspark=spark.read.csv('test4.csv',header=True,inferSchema=True)\n",
    "df_pyspark.show()"
   ]
  },
  {
   "cell_type": "code",
   "execution_count": 5,
   "id": "ccf4141d",
   "metadata": {},
   "outputs": [
    {
     "name": "stdout",
     "output_type": "stream",
     "text": [
      "+-----+---+----------+------+\n",
      "|Name |Age|Experience|Salary|\n",
      "+-----+---+----------+------+\n",
      "|Aryan| 20|        34| 69000|\n",
      "| Rene| 33|        22| 22000|\n",
      "| John| 20|        11| 18000|\n",
      "| Isen| 22|        45| 90000|\n",
      "+-----+---+----------+------+\n",
      "\n"
     ]
    }
   ],
   "source": [
    "### filter operations salary of the people less than 92000\n",
    "df_pyspark.filter('Salary<=92000').show()"
   ]
  },
  {
   "cell_type": "code",
   "execution_count": 6,
   "id": "17f96246",
   "metadata": {},
   "outputs": [
    {
     "name": "stdout",
     "output_type": "stream",
     "text": [
      "+-----+---+\n",
      "|Name |Age|\n",
      "+-----+---+\n",
      "|Aryan| 20|\n",
      "| Rene| 33|\n",
      "| John| 20|\n",
      "| Isen| 22|\n",
      "+-----+---+\n",
      "\n"
     ]
    }
   ],
   "source": [
    "df_pyspark.filter('Salary<=92000').select(['Name ','Age']).show()"
   ]
  },
  {
   "cell_type": "code",
   "execution_count": 9,
   "id": "9ba98c0c",
   "metadata": {},
   "outputs": [
    {
     "name": "stdout",
     "output_type": "stream",
     "text": [
      "+-----+---+----------+------+\n",
      "|Name |Age|Experience|Salary|\n",
      "+-----+---+----------+------+\n",
      "|Aryan| 20|        34| 69000|\n",
      "| Rene| 33|        22| 22000|\n",
      "| Isen| 22|        45| 90000|\n",
      "+-----+---+----------+------+\n",
      "\n"
     ]
    }
   ],
   "source": [
    "df_pyspark.filter((df_pyspark['Salary']<=92000) &( df_pyspark['Salary']>20000)).show()"
   ]
  },
  {
   "cell_type": "code",
   "execution_count": 11,
   "id": "0cd4df49",
   "metadata": {},
   "outputs": [
    {
     "name": "stdout",
     "output_type": "stream",
     "text": [
      "+-----+---+----------+------+\n",
      "|Name |Age|Experience|Salary|\n",
      "+-----+---+----------+------+\n",
      "|Aryan| 20|        34| 69000|\n",
      "|Grace| 19|        29|220000|\n",
      "|Sneha| 19|        78|170000|\n",
      "| Rene| 33|        22| 22000|\n",
      "| Isen| 22|        45| 90000|\n",
      "| Arlo| 19|        12|120000|\n",
      "|Blyke| 21|        22|200000|\n",
      "+-----+---+----------+------+\n",
      "\n"
     ]
    }
   ],
   "source": [
    "df_pyspark.filter(~(df_pyspark['Salary']<20000)).show()"
   ]
  },
  {
   "cell_type": "code",
   "execution_count": null,
   "id": "9de384fb",
   "metadata": {},
   "outputs": [],
   "source": []
  }
 ],
 "metadata": {
  "kernelspec": {
   "display_name": "Python 3 (ipykernel)",
   "language": "python",
   "name": "python3"
  },
  "language_info": {
   "codemirror_mode": {
    "name": "ipython",
    "version": 3
   },
   "file_extension": ".py",
   "mimetype": "text/x-python",
   "name": "python",
   "nbconvert_exporter": "python",
   "pygments_lexer": "ipython3",
   "version": "3.10.4"
  }
 },
 "nbformat": 4,
 "nbformat_minor": 5
}
