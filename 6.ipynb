{
 "cells": [
  {
   "cell_type": "code",
   "execution_count": 2,
   "id": "6d3b9fac",
   "metadata": {},
   "outputs": [],
   "source": [
    "import pyspark\n",
    "from pyspark.sql import SparkSession\n",
    "spark=SparkSession.builder.appName('dataframeAPI').getOrCreate()"
   ]
  },
  {
   "cell_type": "code",
   "execution_count": 3,
   "id": "bd8c7cbb",
   "metadata": {},
   "outputs": [],
   "source": [
    "training = spark.read.csv('test4.csv',header=True,inferSchema=True)"
   ]
  },
  {
   "cell_type": "code",
   "execution_count": 4,
   "id": "92f7dfc1",
   "metadata": {},
   "outputs": [
    {
     "name": "stdout",
     "output_type": "stream",
     "text": [
      "+-----+---+----------+------+\n",
      "|Name |Age|Experience|Salary|\n",
      "+-----+---+----------+------+\n",
      "|Aryan| 20|        34| 69000|\n",
      "|Grace| 19|        29|220000|\n",
      "|Sneha| 19|        78|170000|\n",
      "| Rene| 33|        22| 22000|\n",
      "| John| 20|        11| 18000|\n",
      "| Isen| 22|        45| 90000|\n",
      "| Arlo| 19|        12|120000|\n",
      "|Blyke| 21|        22|200000|\n",
      "+-----+---+----------+------+\n",
      "\n"
     ]
    }
   ],
   "source": [
    "training.show()"
   ]
  },
  {
   "cell_type": "code",
   "execution_count": 7,
   "id": "41d6243c",
   "metadata": {},
   "outputs": [
    {
     "data": {
      "text/plain": [
       "['Name ', 'Age', 'Experience', 'Salary']"
      ]
     },
     "execution_count": 7,
     "metadata": {},
     "output_type": "execute_result"
    }
   ],
   "source": [
    "training.columns"
   ]
  },
  {
   "cell_type": "code",
   "execution_count": 8,
   "id": "53329357",
   "metadata": {},
   "outputs": [
    {
     "ename": "SyntaxError",
     "evalue": "invalid syntax (1836357362.py, line 1)",
     "output_type": "error",
     "traceback": [
      "\u001b[1;36m  Input \u001b[1;32mIn [8]\u001b[1;36m\u001b[0m\n\u001b[1;33m    [Age,Experience]---->new feature--->independent feature\u001b[0m\n\u001b[1;37m                       ^\u001b[0m\n\u001b[1;31mSyntaxError\u001b[0m\u001b[1;31m:\u001b[0m invalid syntax\n"
     ]
    }
   ],
   "source": [
    "[Age,Experience]---->new feature--->independent feature"
   ]
  },
  {
   "cell_type": "code",
   "execution_count": 9,
   "id": "3dbb574b",
   "metadata": {},
   "outputs": [],
   "source": [
    "from pyspark.ml.feature import VectorAssembler\n",
    "featureasembler = VectorAssembler(inputCols=['Age','Experience'],outputCol='Independent Feature')"
   ]
  },
  {
   "cell_type": "code",
   "execution_count": 11,
   "id": "9611d5c7",
   "metadata": {},
   "outputs": [],
   "source": [
    "output = featureasembler.transform(training)"
   ]
  },
  {
   "cell_type": "code",
   "execution_count": 12,
   "id": "6c3c2a45",
   "metadata": {},
   "outputs": [
    {
     "name": "stdout",
     "output_type": "stream",
     "text": [
      "+-----+---+----------+------+-------------------+\n",
      "|Name |Age|Experience|Salary|Independent Feature|\n",
      "+-----+---+----------+------+-------------------+\n",
      "|Aryan| 20|        34| 69000|        [20.0,34.0]|\n",
      "|Grace| 19|        29|220000|        [19.0,29.0]|\n",
      "|Sneha| 19|        78|170000|        [19.0,78.0]|\n",
      "| Rene| 33|        22| 22000|        [33.0,22.0]|\n",
      "| John| 20|        11| 18000|        [20.0,11.0]|\n",
      "| Isen| 22|        45| 90000|        [22.0,45.0]|\n",
      "| Arlo| 19|        12|120000|        [19.0,12.0]|\n",
      "|Blyke| 21|        22|200000|        [21.0,22.0]|\n",
      "+-----+---+----------+------+-------------------+\n",
      "\n"
     ]
    }
   ],
   "source": [
    "output.show()"
   ]
  },
  {
   "cell_type": "code",
   "execution_count": 14,
   "id": "57abc1bc",
   "metadata": {},
   "outputs": [
    {
     "name": "stdout",
     "output_type": "stream",
     "text": [
      "+-------------------+------+\n",
      "|Independent Feature|Salary|\n",
      "+-------------------+------+\n",
      "|        [20.0,34.0]| 69000|\n",
      "|        [19.0,29.0]|220000|\n",
      "|        [19.0,78.0]|170000|\n",
      "|        [33.0,22.0]| 22000|\n",
      "|        [20.0,11.0]| 18000|\n",
      "|        [22.0,45.0]| 90000|\n",
      "|        [19.0,12.0]|120000|\n",
      "|        [21.0,22.0]|200000|\n",
      "+-------------------+------+\n",
      "\n"
     ]
    }
   ],
   "source": [
    "final_data=output.select('Independent Feature','Salary')\n",
    "final_data.show()"
   ]
  },
  {
   "cell_type": "code",
   "execution_count": 17,
   "id": "94daeb9e",
   "metadata": {},
   "outputs": [],
   "source": [
    "from pyspark.ml.regression import LinearRegression\n",
    "train_data,test_data=final_data.randomSplit([0.75,0.25])\n",
    "regressor=LinearRegression(featuresCol='Independent Feature',labelCol='Salary')\n",
    "regressor=regressor.fit(train_data)"
   ]
  },
  {
   "cell_type": "code",
   "execution_count": 18,
   "id": "3505d4d5",
   "metadata": {},
   "outputs": [
    {
     "data": {
      "text/plain": [
       "DenseVector([-2196.4398, 1057.4819])"
      ]
     },
     "execution_count": 18,
     "metadata": {},
     "output_type": "execute_result"
    }
   ],
   "source": [
    "regressor.coefficients"
   ]
  },
  {
   "cell_type": "code",
   "execution_count": 20,
   "id": "c50de71c",
   "metadata": {},
   "outputs": [
    {
     "data": {
      "text/plain": [
       "143248.0437604223"
      ]
     },
     "execution_count": 20,
     "metadata": {},
     "output_type": "execute_result"
    }
   ],
   "source": [
    "regressor.intercept"
   ]
  },
  {
   "cell_type": "code",
   "execution_count": 21,
   "id": "0c3f68fc",
   "metadata": {},
   "outputs": [],
   "source": [
    "pred_res=regressor.evaluate(test_data)"
   ]
  },
  {
   "cell_type": "code",
   "execution_count": 23,
   "id": "7117d4b8",
   "metadata": {},
   "outputs": [
    {
     "name": "stdout",
     "output_type": "stream",
     "text": [
      "+-------------------+------+-----------------+\n",
      "|Independent Feature|Salary|       prediction|\n",
      "+-------------------+------+-----------------+\n",
      "|        [22.0,45.0]| 90000|142513.0539588365|\n",
      "|        [33.0,22.0]| 22000| 94030.1316521469|\n",
      "+-------------------+------+-----------------+\n",
      "\n"
     ]
    }
   ],
   "source": [
    "pred_res.predictions.show()"
   ]
  },
  {
   "cell_type": "code",
   "execution_count": 24,
   "id": "193dbfc0",
   "metadata": {},
   "outputs": [
    {
     "data": {
      "text/plain": [
       "(62271.5928054917, 3972980350.9546447)"
      ]
     },
     "execution_count": 24,
     "metadata": {},
     "output_type": "execute_result"
    }
   ],
   "source": [
    "pred_res.meanAbsoluteError,pred_res.meanSquaredError"
   ]
  },
  {
   "cell_type": "code",
   "execution_count": null,
   "id": "d9fc7457",
   "metadata": {},
   "outputs": [],
   "source": []
  }
 ],
 "metadata": {
  "kernelspec": {
   "display_name": "Python 3 (ipykernel)",
   "language": "python",
   "name": "python3"
  },
  "language_info": {
   "codemirror_mode": {
    "name": "ipython",
    "version": 3
   },
   "file_extension": ".py",
   "mimetype": "text/x-python",
   "name": "python",
   "nbconvert_exporter": "python",
   "pygments_lexer": "ipython3",
   "version": "3.10.4"
  }
 },
 "nbformat": 4,
 "nbformat_minor": 5
}
